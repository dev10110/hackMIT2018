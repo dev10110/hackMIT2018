{
 "cells": [
  {
   "cell_type": "code",
<<<<<<< HEAD
<<<<<<< HEAD
   "execution_count": 7,
=======
   "execution_count": 29,
>>>>>>> parent of fcf1e00... hi
=======
   "execution_count": 213,
>>>>>>> parent of 39a7501... works!
   "metadata": {
    "scrolled": false
   },
   "outputs": [
    {
<<<<<<< HEAD
     "ename": "WatsonApiException",
     "evalue": "Error: Unknown error, Code: 400 , X-dp-watson-tran-id: gateway01-437471677 , X-global-transaction-id: 7ecac92c5b9e631e1a1349bd",
     "output_type": "error",
     "traceback": [
      "\u001b[0;31m---------------------------------------------------------------------------\u001b[0m",
      "\u001b[0;31mWatsonApiException\u001b[0m                        Traceback (most recent call last)",
      "\u001b[0;32m<ipython-input-7-725f5ece9cdf>\u001b[0m in \u001b[0;36m<module>\u001b[0;34m()\u001b[0m\n\u001b[1;32m     25\u001b[0m \u001b[0msurvivorpresent\u001b[0m\u001b[0;34m=\u001b[0m\u001b[0;34m[\u001b[0m\u001b[0;34m]\u001b[0m\u001b[0;34m\u001b[0m\u001b[0m\n\u001b[1;32m     26\u001b[0m \u001b[0msurvivorabsent\u001b[0m\u001b[0;34m=\u001b[0m\u001b[0;34m[\u001b[0m\u001b[0;34m]\u001b[0m\u001b[0;34m\u001b[0m\u001b[0m\n\u001b[0;32m---> 27\u001b[0;31m \u001b[0;34m(\u001b[0m\u001b[0msurvivorlatdata\u001b[0m\u001b[0;34m,\u001b[0m\u001b[0msurvivorlondata\u001b[0m\u001b[0;34m,\u001b[0m\u001b[0msurvivorpresent\u001b[0m\u001b[0;34m,\u001b[0m\u001b[0msurvivorabsent\u001b[0m\u001b[0;34m)\u001b[0m\u001b[0;34m=\u001b[0m\u001b[0mtag_photos\u001b[0m\u001b[0;34m(\u001b[0m\u001b[0;34m)\u001b[0m\u001b[0;34m\u001b[0m\u001b[0m\n\u001b[0m\u001b[1;32m     28\u001b[0m \u001b[0;34m\u001b[0m\u001b[0m\n\u001b[1;32m     29\u001b[0m \u001b[0;34m(\u001b[0m\u001b[0mvollatdata\u001b[0m\u001b[0;34m,\u001b[0m\u001b[0mvollondata\u001b[0m\u001b[0;34m)\u001b[0m\u001b[0;34m=\u001b[0m\u001b[0mvolunteerLoc\u001b[0m\u001b[0;34m(\u001b[0m\u001b[0;34m[\u001b[0m\u001b[0;34m'KK6GPV-14'\u001b[0m\u001b[0;34m,\u001b[0m\u001b[0;34m'DW0326'\u001b[0m\u001b[0;34m,\u001b[0m\u001b[0;34m'EW3791'\u001b[0m\u001b[0;34m,\u001b[0m\u001b[0;34m'ew6034'\u001b[0m\u001b[0;34m,\u001b[0m\u001b[0;34m'W5HRH'\u001b[0m\u001b[0;34m,\u001b[0m\u001b[0;34m'CW4482'\u001b[0m\u001b[0;34m,\u001b[0m\u001b[0;34m'DW7082'\u001b[0m\u001b[0;34m,\u001b[0m\u001b[0;34m'FW1172'\u001b[0m\u001b[0;34m,\u001b[0m\u001b[0;34m'KC5KAW'\u001b[0m\u001b[0;34m,\u001b[0m\u001b[0;34m'FW1783'\u001b[0m\u001b[0;34m,\u001b[0m \u001b[0;34m'DW2150'\u001b[0m\u001b[0;34m]\u001b[0m\u001b[0;34m)\u001b[0m\u001b[0;34m\u001b[0m\u001b[0m\n",
      "\u001b[0;32m<ipython-input-4-d6c73cce687d>\u001b[0m in \u001b[0;36mtag_photos\u001b[0;34m()\u001b[0m\n\u001b[1;32m     28\u001b[0m                 \u001b[0mimages_file\u001b[0m\u001b[0;34m,\u001b[0m\u001b[0;34m\u001b[0m\u001b[0m\n\u001b[1;32m     29\u001b[0m                 \u001b[0mthreshold\u001b[0m\u001b[0;34m=\u001b[0m\u001b[0;34m'0.0'\u001b[0m\u001b[0;34m,\u001b[0m\u001b[0;34m\u001b[0m\u001b[0m\n\u001b[0;32m---> 30\u001b[0;31m                 owners=[\"me\"]).get_result()\n\u001b[0m\u001b[1;32m     31\u001b[0m                 \u001b[0;31m#classifier_ids=['default']).get_result()\u001b[0m\u001b[0;34m\u001b[0m\u001b[0;34m\u001b[0m\u001b[0m\n\u001b[1;32m     32\u001b[0m \u001b[0;34m\u001b[0m\u001b[0m\n",
      "\u001b[0;32m~/anaconda3/lib/python3.6/site-packages/watson_developer_cloud/visual_recognition_v3_adapter.py\u001b[0m in \u001b[0;36mclassify\u001b[0;34m(self, images_file, accept_language, url, threshold, owners, classifier_ids, images_file_content_type, images_filename, **kwargs)\u001b[0m\n\u001b[1;32m    159\u001b[0m                 \u001b[0;34m'classifier_ids'\u001b[0m\u001b[0;34m:\u001b[0m \u001b[0mclassifier_ids_tuple\u001b[0m\u001b[0;34m\u001b[0m\u001b[0m\n\u001b[1;32m    160\u001b[0m             },\n\u001b[0;32m--> 161\u001b[0;31m             accept_json=True)\n\u001b[0m\u001b[1;32m    162\u001b[0m         \u001b[0;32mreturn\u001b[0m \u001b[0mresponse\u001b[0m\u001b[0;34m\u001b[0m\u001b[0m\n",
      "\u001b[0;32m~/anaconda3/lib/python3.6/site-packages/watson_developer_cloud/watson_service.py\u001b[0m in \u001b[0;36mrequest\u001b[0;34m(self, method, url, accept_json, headers, params, json, data, files, **kwargs)\u001b[0m\n\u001b[1;32m    477\u001b[0m             \u001b[0merror_info\u001b[0m \u001b[0;34m=\u001b[0m \u001b[0mself\u001b[0m\u001b[0;34m.\u001b[0m\u001b[0m_get_error_info\u001b[0m\u001b[0;34m(\u001b[0m\u001b[0mresponse\u001b[0m\u001b[0;34m)\u001b[0m\u001b[0;34m\u001b[0m\u001b[0m\n\u001b[1;32m    478\u001b[0m             raise WatsonApiException(response.status_code, error_message,\n\u001b[0;32m--> 479\u001b[0;31m                                      info=error_info, httpResponse=response)\n\u001b[0m",
      "\u001b[0;31mWatsonApiException\u001b[0m: Error: Unknown error, Code: 400 , X-dp-watson-tran-id: gateway01-437471677 , X-global-transaction-id: 7ecac92c5b9e631e1a1349bd"
     ]
=======
     "data": {
      "text/html": [
       "<iframe id=\"igraph\" scrolling=\"no\" style=\"border:none;\" seamless=\"seamless\" src=\"https://plot.ly/~dev10110/21.embed\" height=\"525px\" width=\"100%\"></iframe>"
      ],
      "text/plain": [
       "<plotly.tools.PlotlyDisplay object>"
      ]
     },
<<<<<<< HEAD
     "execution_count": 29,
=======
     "execution_count": 213,
>>>>>>> parent of 39a7501... works!
     "metadata": {},
     "output_type": "execute_result"
>>>>>>> parent of fcf1e00... hi
    }
   ],
   "source": [
    "import csv\n",
    "import geocoder\n",
    "import plotly\n",
    "import plotly.plotly as py\n",
    "import plotly.graph_objs as go\n",
    "import statistics\n",
    "import scipy.optimize as scipyopt\n",
    "import pandas as pd\n",
    "import math\n",
    "import requests\n",
    "import json\n",
    "\n",
    "\n",
    "\n",
    "\n",
    "## Set up plotly\n",
    "plotly.tools.set_credentials_file(username='dev10110', api_key='0sQ9Wb2f7HVlEVE3eRal')\n",
    "\n",
    "mapbox_access_token = 'pk.eyJ1IjoiZGV2MTAxMTAiLCJhIjoiY2ptNGp0bTYyMHE1azNqb3R3eXU2bG1mdiJ9.XOyqUI4vtvW4ZqQxnbl6Lg'\n",
    "\n",
    "## import data \n",
    "\n",
    "#(survivorlatdata,survivorlondata,survivorpresent,survivorabsent)=tag_photos()\n",
    "\n",
    "(vollatdata,vollondata)=volunteerLoc(['KK6GPV-14','DW0326','EW3791','ew6034','W5HRH','CW4482','DW7082','FW1172','KC5KAW','FW1783', 'DW2150'])\n",
    "\n",
    "\n",
    "## import data \n",
    "#import volunteer data and plot raw scatter\n",
    "#vollatdata=[]\n",
    "#vollondata=[]\n",
    "#with open('volunteerLocData.csv',newline='') as csvfile:\n",
    "#    spamreader = csv.reader(csvfile)\n",
    "#    for row in spamreader:\n",
    "#        vollatdata.append(float(row[0]))\n",
    "#        vollondata.append(float(row[1]))\n",
    "    #latlon=[[float(row[0]), float(row[1])] for row in spamreader]\n",
    "\n",
    "    \n",
    "# create the volunteers plot\n",
    "voltrace=dict(\n",
    "    type = 'scattermapbox',\n",
    "    lat = vollatdata, lon = vollondata,\n",
    "    mode='markers',\n",
    "    marker = dict(\n",
    "        symbol = 'square',\n",
    "        color = 'rgb(0,0,0)'),\n",
    "    name = 'Volunteer')\n",
    "\n",
    "\n",
    " #get survivors location\n",
    "if 1:\n",
    "    survivorlatdata=[]\n",
    "    survivorlondata=[]\n",
    "    survivorpresent=[]\n",
    "    survivorabsent =[]\n",
    "    with open('survivorLocData.csv',newline='') as csvfile:\n",
    "        spamreader = csv.reader(csvfile)\n",
    "        for row in spamreader:\n",
    "            survivorlatdata.append(float(row[0]))\n",
    "            survivorlondata.append(float(row[1]))\n",
    "            survivorpresent.append(float(row[2]))\n",
    "            survivorabsent.append(float(row[3]))\n",
    "\n",
    "# mark the survivor locations\n",
    "survivortrace=go.Scattermapbox(\n",
    "    lat = survivorlatdata, \n",
    "    lon = survivorlondata,\n",
    "    #size = [10*surv for surv in survivorpresent],\n",
    "    mode='markers',\n",
    "    name='Survivor!',\n",
    "    marker = dict(\n",
    "        size=10,\n",
    "        color = survivorpresent,\n",
    "        cmin = 0,\n",
    "        cmax = 1,\n",
    "        showscale=True)\n",
    ")\n",
    "\n",
    "\n",
    "#get users location\n",
    "g = geocoder.ip('me')\n",
    "mylat=g.latlng[0]\n",
    "mylon=g.latlng[1]\n",
    "\n",
    "# mark the user location\n",
    "mytrace=dict(\n",
    "    type = 'scattermapbox',\n",
    "    lat = [mylat], lon = [mylon],\n",
    "    mode='markers',\n",
    "    marker = dict(\n",
    "    symbol='star',\n",
    "    color='#003bff'),\n",
    "    name='Map generated here'\n",
    "    )\n",
    "\n",
    "\n",
    "\n",
    "\n",
    "\n",
    "## create the mapping\n",
    "\n",
    "#create a cost matrix\n",
    "\n",
    "\n",
    "#heuristic1: distance between nodes squared\n",
    "costmatrix=np.zeros((len(vollatdata), len(survivorlatdata)))\n",
    "\n",
    "for i in range(0,len(vollatdata)):\n",
    "    for j in range(0,len(survivorlatdata)):\n",
    "        costmatrix[i,j]=distance(vollatdata[i],vollondata[i],survivorlatdata[j],survivorlondata[j]) #compute the dist between volunteer and survivor\n",
    "        #ideally should include some confidence info/weather info\n",
    "\n",
    "bestassignmentrow, bestassignmentcol=scipyopt.linear_sum_assignment(costmatrix)\n",
    "\n",
    "#create the first assignment\n",
    "assignments = go.scattergeo(\n",
    "    lat = [vollatdata[bestassignmentrow[0]],survivorlatdata[bestassignmentcol[0]]], \n",
    "    lon = [vollondata[bestassignmentrow[0]],survivorlondata[bestassignmentcol[0]]], \n",
    "    #size = [10*surv for surv in survivorpresent],\n",
    "    )\n",
    "\n",
    "assignments = []\n",
    "for i in range(0, len( vollatdata ) ):\n",
    "    assignments.append(\n",
    "        dict(\n",
    "            type = 'scattergeo',\n",
    "            lat = [vollatdata[bestassignmentrow[i]], survivorlatdata[bestassignmentcol[i]]],\n",
    "            lon = [vollondata[bestassignmentrow[i]], survivorlondata[bestassignmentcol[i]]],\n",
    "            mode = 'lines',\n",
    "            line = dict(\n",
    "                width = 10,\n",
    "                color = 'red',\n",
    "            )\n",
    "        )\n",
    "    )\n",
    "\n",
    "\n",
    "\n",
    "\n",
    "\n",
    "##make the plot look nice\n",
    "\n",
    "medianlat=statistics.median(survivorlatdata)\n",
    "medianlon=statistics.median(survivorlondata)\n",
    "\n",
    "layout = go.Layout(\n",
    "    autosize=True,\n",
    "    hovermode='closest',\n",
    "    showlegend = False,\n",
    "    mapbox=dict(\n",
    "        accesstoken=mapbox_access_token,\n",
    "        bearing=0,\n",
    "        center=dict(\n",
    "            lat=medianlat,\n",
    "            lon=medianlon\n",
    "        ),\n",
    "        pitch=0,\n",
    "        zoom=6,\n",
    "        style='light'\n",
    "    ),\n",
    ")\n",
    "data=[voltrace, mytrace,survivortrace]+assignments\n",
    "## finally implement the plot\n",
    "fig=dict(data=[voltrace, mytrace,survivortrace]+assignments,layout=layout)\n",
    "\n",
    "py.iplot(fig,filename='Where help is needed')\n",
    "\n",
    "\n",
    "\n",
    "\n",
    "\n",
    "\n",
    "\n",
    "\n"
   ]
  },
  {
   "cell_type": "code",
<<<<<<< HEAD
<<<<<<< HEAD
   "execution_count": 1,
   "metadata": {},
   "outputs": [],
   "source": [
    "import csv\n",
    "import geocoder\n",
    "import plotly\n",
    "import plotly.plotly as py\n",
    "import plotly.graph_objs as go\n",
    "import statistics\n",
    "import scipy.optimize as scipyopt\n",
    "import pandas as pd\n",
    "import math\n",
    "import requests\n",
    "import json\n",
    "import numpy as np"
   ]
  },
  {
   "cell_type": "code",
   "execution_count": 2,
   "metadata": {},
   "outputs": [],
   "source": [
    "\n",
    "#### extra functions\n",
    "def distance(lat, lng, lat0, lng0):\n",
    "    deglen = 110.25\n",
    "    x = lat - lat0\n",
    "    y = (lng - lng0)*math.cos(lat0)\n",
    "    return deglen*math.sqrt(x*x + y*y)\n",
    "    "
=======
   "execution_count": 164,
   "metadata": {},
   "outputs": [],
   "source": [
    "import scipy.optimize as scipyopt\n",
    "import scipy.optimize as scipyopt\n",
    "\n",
    "#create a cost matrix\n",
    "#heuristic1: distance between nodes squared\n",
    "\n",
    "costmatrix=np.zeros((len(vollatdata), len(survivorlatdata)))\n",
    "\n",
    "for i in range(0,len(vollatdata)):\n",
    "    for j in range(0,len(survivorlatdata)):\n",
    "        costmatrix[i,j]=distance(vollatdata[i],vollondata[i],survivorlatdata[j],survivorlondata[j])\n",
    "\n",
    "\n",
    "bestassignmentrow, bestassignmentcol=scipyopt.linear_sum_assignment(costmatrix)"
>>>>>>> parent of 39a7501... works!
   ]
  },
  {
   "cell_type": "code",
<<<<<<< HEAD
   "execution_count": 3,
=======
   "execution_count": 7,
>>>>>>> parent of fcf1e00... hi
=======
   "execution_count": 133,
>>>>>>> parent of 39a7501... works!
   "metadata": {},
   "outputs": [],
   "source": [
    "import math\n",
    "def distance(lat, lng, lat0, lng0):\n",
    "    deglen = 110.25\n",
    "    x = lat - lat0\n",
    "    y = (lng - lng0)*math.cos(lat0)\n",
    "    return deglen*math.sqrt(x*x + y*y)"
   ]
  },
  {
   "cell_type": "code",
<<<<<<< HEAD
   "execution_count": 4,
=======
   "execution_count": 186,
>>>>>>> parent of 39a7501... works!
   "metadata": {},
   "outputs": [
    {
     "name": "stdout",
     "output_type": "stream",
     "text": [
      "([-24.500008746954016, 0.2323], [33.35785150844174, 0.2323], [0.035, 0.044], [0.853, 0.135])\n"
     ]
    }
   ],
   "source": [
    "from watson_developer_cloud import VisualRecognitionV3\n",
    "import json\n",
    "import os\n",
    "import getLatLong as geotag\n",
    "\n",
    "#all photos must be stored in 'Photos' directory (same dir as code)\n",
    "\n",
    "#tagged_images = [] #[(lat,long),roof_true probability, roof_false probability]\n",
    "lats = []\n",
    "longs = []\n",
    "rt = []\n",
    "rf = []\n",
    "\n",
    "visual_recognition = VisualRecognitionV3(\n",
    "    '2018-03-19',\n",
    "    iam_apikey='IzC43uyV2kDJ60yceb_ryZe3wiKaQzXK48p8iePXw5xM')\n",
    "\n",
    "def tag_photos():\n",
    "    \n",
    "    for file in os.listdir('Photos'):\n",
    "\n",
    "        direc = 'Photos/' + file\n",
    "\n",
    "        with open(direc, 'rb') as images_file:\n",
    "            classes = visual_recognition.classify(\n",
    "                images_file,\n",
    "                threshold='0.0',\n",
    "                owners=[\"me\"]).get_result()\n",
    "                #classifier_ids=['default']).get_result()\n",
    "\n",
    "            roof_false = classes['images'][0]['classifiers'][0]['classes'][0]['score']\n",
    "            roof_true = classes['images'][0]['classifiers'][0]['classes'][1]['score']\n",
    "\n",
    "\n",
    "        (lat,long) = geotag.getLatLong(direc)\n",
    "\n",
    "        lats.append(lat)\n",
    "        longs.append(long)\n",
    "        rt.append(roof_true)\n",
    "        rf.append(roof_false)\n",
    "        #tagged_images.append([(lat,long),roof_true,roof_false])\n",
    "        \n",
    "    return(lats,longs,rt,rf)\n",
    "\n",
    "print(tag_photos())\n",
    "\n"
   ]
  },
  {
   "cell_type": "code",
<<<<<<< HEAD
   "execution_count": null,
   "metadata": {},
   "outputs": [],
   "source": []
  },
  {
   "cell_type": "code",
<<<<<<< HEAD
   "execution_count": null,
=======
   "execution_count": 3,
>>>>>>> parent of fcf1e00... hi
=======
   "execution_count": 188,
>>>>>>> parent of 39a7501... works!
   "metadata": {},
   "outputs": [],
   "source": [
    "\n"
   ]
  },
  {
   "cell_type": "code",
<<<<<<< HEAD
<<<<<<< HEAD
   "execution_count": 5,
=======
   "execution_count": 2,
>>>>>>> parent of fcf1e00... hi
=======
   "execution_count": 210,
>>>>>>> parent of 39a7501... works!
   "metadata": {},
   "outputs": [
    {
     "name": "stdout",
     "output_type": "stream",
     "text": [
      "([41.645, 41.72699, 41.70083], [-72.708, -72.58122, -73.03517])\n"
     ]
    }
   ],
   "source": [
    "\n",
    "aprs = []\n",
    "locData = {}\n",
    "#input list of volunteer's callsigns, returns\n",
    "\n",
    "def volunteerLoc(callList):\n",
    "\n",
    "    aprsWeb = 'https://api.aprs.fi/api/get?name='\n",
    "    aprsWeb+=callList[0]\n",
    "    \n",
    "    for i in range(1,len(callList)):\n",
    "\n",
    "        aprsWeb+=','\n",
    "        call = callList[i]\n",
    "        aprsWeb+= call \n",
    "\n",
    "\n",
    "    aprsWeb+='&what=loc&apikey=116932.M4GQQFbrZzOx9&format=json'\n",
    "    grabaprs = requests.get(aprsWeb)\n",
    "    jlist = grabaprs.content\n",
    "    aprs = json.loads(jlist)\n",
    "\n",
    "    for i in range(0,len(callList)):\n",
    "        \n",
    "        locData[aprs['entries'][i]['name']] = [aprs['entries'][i]['lat'],aprs['entries'][i]['lng']]\n",
    "        \n",
    "    vollat = [float(location[0]) for location in locData.values()]\n",
    "    vollong = [float(location[1]) for location in locData.values()]\n",
    "\n",
    "    return vollat,vollong\n",
    "    \n",
    "\n",
    "print(volunteerLoc(['K1MQ','KB1IXO-9','EW3846']))\n",
    "\n"
   ]
<<<<<<< HEAD
  },
  {
   "cell_type": "code",
   "execution_count": 9,
   "metadata": {},
   "outputs": [
    {
     "ename": "WatsonApiException",
     "evalue": "Error: Unknown error, Code: 400 , X-dp-watson-tran-id: gateway01-101913647 , X-global-transaction-id: 7ecac92c5b9e63980613142f",
     "output_type": "error",
     "traceback": [
      "\u001b[0;31m---------------------------------------------------------------------------\u001b[0m",
      "\u001b[0;31mWatsonApiException\u001b[0m                        Traceback (most recent call last)",
      "\u001b[0;32m<ipython-input-9-9b9818b99fc3>\u001b[0m in \u001b[0;36m<module>\u001b[0;34m()\u001b[0m\n\u001b[0;32m----> 1\u001b[0;31m \u001b[0mtag_photos\u001b[0m\u001b[0;34m(\u001b[0m\u001b[0;34m)\u001b[0m\u001b[0;34m\u001b[0m\u001b[0m\n\u001b[0m",
      "\u001b[0;32m<ipython-input-4-d6c73cce687d>\u001b[0m in \u001b[0;36mtag_photos\u001b[0;34m()\u001b[0m\n\u001b[1;32m     28\u001b[0m                 \u001b[0mimages_file\u001b[0m\u001b[0;34m,\u001b[0m\u001b[0;34m\u001b[0m\u001b[0m\n\u001b[1;32m     29\u001b[0m                 \u001b[0mthreshold\u001b[0m\u001b[0;34m=\u001b[0m\u001b[0;34m'0.0'\u001b[0m\u001b[0;34m,\u001b[0m\u001b[0;34m\u001b[0m\u001b[0m\n\u001b[0;32m---> 30\u001b[0;31m                 owners=[\"me\"]).get_result()\n\u001b[0m\u001b[1;32m     31\u001b[0m                 \u001b[0;31m#classifier_ids=['default']).get_result()\u001b[0m\u001b[0;34m\u001b[0m\u001b[0;34m\u001b[0m\u001b[0m\n\u001b[1;32m     32\u001b[0m \u001b[0;34m\u001b[0m\u001b[0m\n",
      "\u001b[0;32m~/anaconda3/lib/python3.6/site-packages/watson_developer_cloud/visual_recognition_v3_adapter.py\u001b[0m in \u001b[0;36mclassify\u001b[0;34m(self, images_file, accept_language, url, threshold, owners, classifier_ids, images_file_content_type, images_filename, **kwargs)\u001b[0m\n\u001b[1;32m    159\u001b[0m                 \u001b[0;34m'classifier_ids'\u001b[0m\u001b[0;34m:\u001b[0m \u001b[0mclassifier_ids_tuple\u001b[0m\u001b[0;34m\u001b[0m\u001b[0m\n\u001b[1;32m    160\u001b[0m             },\n\u001b[0;32m--> 161\u001b[0;31m             accept_json=True)\n\u001b[0m\u001b[1;32m    162\u001b[0m         \u001b[0;32mreturn\u001b[0m \u001b[0mresponse\u001b[0m\u001b[0;34m\u001b[0m\u001b[0m\n",
      "\u001b[0;32m~/anaconda3/lib/python3.6/site-packages/watson_developer_cloud/watson_service.py\u001b[0m in \u001b[0;36mrequest\u001b[0;34m(self, method, url, accept_json, headers, params, json, data, files, **kwargs)\u001b[0m\n\u001b[1;32m    477\u001b[0m             \u001b[0merror_info\u001b[0m \u001b[0;34m=\u001b[0m \u001b[0mself\u001b[0m\u001b[0;34m.\u001b[0m\u001b[0m_get_error_info\u001b[0m\u001b[0;34m(\u001b[0m\u001b[0mresponse\u001b[0m\u001b[0;34m)\u001b[0m\u001b[0;34m\u001b[0m\u001b[0m\n\u001b[1;32m    478\u001b[0m             raise WatsonApiException(response.status_code, error_message,\n\u001b[0;32m--> 479\u001b[0;31m                                      info=error_info, httpResponse=response)\n\u001b[0m",
      "\u001b[0;31mWatsonApiException\u001b[0m: Error: Unknown error, Code: 400 , X-dp-watson-tran-id: gateway01-101913647 , X-global-transaction-id: 7ecac92c5b9e63980613142f"
     ]
    }
   ],
   "source": [
    "tag_photos()"
   ]
  },
  {
   "cell_type": "code",
   "execution_count": 12,
   "metadata": {},
   "outputs": [
    {
     "ename": "WatsonApiException",
     "evalue": "Error: No images were specified., Code: 400 , X-dp-watson-tran-id: gateway02-434850973 , X-global-transaction-id: ffea405d5b9e63d419eb4c9d",
     "output_type": "error",
     "traceback": [
      "\u001b[0;31m---------------------------------------------------------------------------\u001b[0m",
      "\u001b[0;31mWatsonApiException\u001b[0m                        Traceback (most recent call last)",
      "\u001b[0;32m<ipython-input-12-bd7c2ce4aa6e>\u001b[0m in \u001b[0;36m<module>\u001b[0;34m()\u001b[0m\n\u001b[1;32m      2\u001b[0m                 \u001b[0;34m'Photos/s3.jpg'\u001b[0m\u001b[0;34m,\u001b[0m\u001b[0;34m\u001b[0m\u001b[0m\n\u001b[1;32m      3\u001b[0m                 \u001b[0mthreshold\u001b[0m\u001b[0;34m=\u001b[0m\u001b[0;34m'0.0'\u001b[0m\u001b[0;34m,\u001b[0m\u001b[0;34m\u001b[0m\u001b[0m\n\u001b[0;32m----> 4\u001b[0;31m                 owners=[\"me\"]).get_result()\n\u001b[0m",
      "\u001b[0;32m~/anaconda3/lib/python3.6/site-packages/watson_developer_cloud/visual_recognition_v3_adapter.py\u001b[0m in \u001b[0;36mclassify\u001b[0;34m(self, images_file, accept_language, url, threshold, owners, classifier_ids, images_file_content_type, images_filename, **kwargs)\u001b[0m\n\u001b[1;32m    159\u001b[0m                 \u001b[0;34m'classifier_ids'\u001b[0m\u001b[0;34m:\u001b[0m \u001b[0mclassifier_ids_tuple\u001b[0m\u001b[0;34m\u001b[0m\u001b[0m\n\u001b[1;32m    160\u001b[0m             },\n\u001b[0;32m--> 161\u001b[0;31m             accept_json=True)\n\u001b[0m\u001b[1;32m    162\u001b[0m         \u001b[0;32mreturn\u001b[0m \u001b[0mresponse\u001b[0m\u001b[0;34m\u001b[0m\u001b[0m\n",
      "\u001b[0;32m~/anaconda3/lib/python3.6/site-packages/watson_developer_cloud/watson_service.py\u001b[0m in \u001b[0;36mrequest\u001b[0;34m(self, method, url, accept_json, headers, params, json, data, files, **kwargs)\u001b[0m\n\u001b[1;32m    477\u001b[0m             \u001b[0merror_info\u001b[0m \u001b[0;34m=\u001b[0m \u001b[0mself\u001b[0m\u001b[0;34m.\u001b[0m\u001b[0m_get_error_info\u001b[0m\u001b[0;34m(\u001b[0m\u001b[0mresponse\u001b[0m\u001b[0;34m)\u001b[0m\u001b[0;34m\u001b[0m\u001b[0m\n\u001b[1;32m    478\u001b[0m             raise WatsonApiException(response.status_code, error_message,\n\u001b[0;32m--> 479\u001b[0;31m                                      info=error_info, httpResponse=response)\n\u001b[0m",
      "\u001b[0;31mWatsonApiException\u001b[0m: Error: No images were specified., Code: 400 , X-dp-watson-tran-id: gateway02-434850973 , X-global-transaction-id: ffea405d5b9e63d419eb4c9d"
     ]
    }
   ],
   "source": [
    "classes = visual_recognition.classify(\n",
    "                'Photos/s3.jpg',\n",
    "                threshold='0.0',\n",
    "                owners=[\"me\"]).get_result()"
   ]
  },
  {
   "cell_type": "code",
   "execution_count": null,
   "metadata": {},
   "outputs": [],
   "source": []
=======
>>>>>>> parent of 39a7501... works!
  }
 ],
 "metadata": {
  "kernelspec": {
   "display_name": "Python 3",
   "language": "python",
   "name": "python3"
  },
  "language_info": {
   "codemirror_mode": {
    "name": "ipython",
    "version": 3
   },
   "file_extension": ".py",
   "mimetype": "text/x-python",
   "name": "python",
   "nbconvert_exporter": "python",
   "pygments_lexer": "ipython3",
   "version": "3.6.5"
  }
 },
 "nbformat": 4,
 "nbformat_minor": 2
}
