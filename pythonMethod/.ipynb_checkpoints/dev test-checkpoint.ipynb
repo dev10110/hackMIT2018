{
 "cells": [
  {
   "cell_type": "code",
   "execution_count": 19,
   "metadata": {},
   "outputs": [
    {
     "data": {
      "text/html": [
       "<iframe id=\"igraph\" scrolling=\"no\" style=\"border:none;\" seamless=\"seamless\" src=\"https://plot.ly/~dev10110/1.embed\" height=\"525px\" width=\"100%\"></iframe>"
      ],
      "text/plain": [
       "<plotly.tools.PlotlyDisplay object>"
      ]
     },
     "execution_count": 19,
     "metadata": {},
     "output_type": "execute_result"
    }
   ],
   "source": [
    "import plotly\n",
    "import plotly.plotly as py\n",
    "import pandas as pd\n",
    "\n",
    "plotly.tools.set_credentials_file(username='dev10110', api_key='0sQ9Wb2f7HVlEVE3eRal')\n",
    "\n",
    "df = pd.read_csv('https://raw.githubusercontent.com/plotly/datasets/master/2014_us_cities.csv')\n",
    "df.head()\n",
    "\n",
    "df['text'] = df['name'] + '<br>Population ' + (df['pop']/1e6).astype(str)+' million'\n",
    "limits = [(0,2),(3,10),(11,20),(21,50),(50,3000)]\n",
    "colors = [\"rgb(0,116,217)\",\"rgb(255,65,54)\",\"rgb(133,20,75)\",\"rgb(255,133,27)\",\"lightgrey\"]\n",
    "cities = []\n",
    "scale = 5000\n",
    "\n",
    "for i in range(len(limits)):\n",
    "    lim = limits[i]\n",
    "    df_sub = df[lim[0]:lim[1]]\n",
    "    city = dict(\n",
    "        type = 'scattergeo',\n",
    "        locationmode = 'USA-states',\n",
    "        lon = df_sub['lon'],\n",
    "        lat = df_sub['lat'],\n",
    "        text = df_sub['text'],\n",
    "        marker = dict(\n",
    "            size = df_sub['pop']/scale,\n",
    "            color = colors[i],\n",
    "            line = dict(width=0.5, color='rgb(40,40,40)'),\n",
    "            sizemode = 'area'\n",
    "        ),\n",
    "        name = '{0} - {1}'.format(lim[0],lim[1]) )\n",
    "    cities.append(city)\n",
    "\n",
    "layout = dict(\n",
    "        title = '2014 US city populations<br>(Click legend to toggle traces)',\n",
    "        showlegend = True,\n",
    "        geo = dict(\n",
    "            scope='usa',\n",
    "            projection=dict( type='albers usa' ),\n",
    "            showland = True,\n",
    "            landcolor = 'rgb(217, 217, 217)',\n",
    "            subunitwidth=1,\n",
    "            countrywidth=1,\n",
    "            subunitcolor=\"rgb(255, 255, 255)\",\n",
    "            countrycolor=\"rgb(255, 255, 255)\"\n",
    "        ),\n",
    "    )\n",
    "\n",
    "fig = dict( data=cities, layout=layout )\n",
    "py.iplot( fig, validate=False, filename='d3-bubble-map-populations' )"
   ]
  },
  {
   "cell_type": "code",
   "execution_count": 10,
   "metadata": {},
   "outputs": [
    {
     "data": {
      "text/html": [
       "<div>\n",
       "<style scoped>\n",
       "    .dataframe tbody tr th:only-of-type {\n",
       "        vertical-align: middle;\n",
       "    }\n",
       "\n",
       "    .dataframe tbody tr th {\n",
       "        vertical-align: top;\n",
       "    }\n",
       "\n",
       "    .dataframe thead th {\n",
       "        text-align: right;\n",
       "    }\n",
       "</style>\n",
       "<table border=\"1\" class=\"dataframe\">\n",
       "  <thead>\n",
       "    <tr style=\"text-align: right;\">\n",
       "      <th></th>\n",
       "      <th>name</th>\n",
       "      <th>pop</th>\n",
       "      <th>lat</th>\n",
       "      <th>lon</th>\n",
       "      <th>text</th>\n",
       "    </tr>\n",
       "  </thead>\n",
       "  <tbody>\n",
       "    <tr>\n",
       "      <th>0</th>\n",
       "      <td>New York</td>\n",
       "      <td>8287238</td>\n",
       "      <td>40.730599</td>\n",
       "      <td>-73.986581</td>\n",
       "      <td>New York &lt;br&gt;Population 8.287238 million</td>\n",
       "    </tr>\n",
       "    <tr>\n",
       "      <th>1</th>\n",
       "      <td>Los Angeles</td>\n",
       "      <td>3826423</td>\n",
       "      <td>34.053717</td>\n",
       "      <td>-118.242727</td>\n",
       "      <td>Los Angeles &lt;br&gt;Population 3.826423 million</td>\n",
       "    </tr>\n",
       "    <tr>\n",
       "      <th>2</th>\n",
       "      <td>Chicago</td>\n",
       "      <td>2705627</td>\n",
       "      <td>41.875555</td>\n",
       "      <td>-87.624421</td>\n",
       "      <td>Chicago &lt;br&gt;Population 2.705627 million</td>\n",
       "    </tr>\n",
       "    <tr>\n",
       "      <th>3</th>\n",
       "      <td>Houston</td>\n",
       "      <td>2129784</td>\n",
       "      <td>29.758938</td>\n",
       "      <td>-95.367697</td>\n",
       "      <td>Houston &lt;br&gt;Population 2.129784 million</td>\n",
       "    </tr>\n",
       "    <tr>\n",
       "      <th>4</th>\n",
       "      <td>Philadelphia</td>\n",
       "      <td>1539313</td>\n",
       "      <td>39.952335</td>\n",
       "      <td>-75.163789</td>\n",
       "      <td>Philadelphia &lt;br&gt;Population 1.539313 million</td>\n",
       "    </tr>\n",
       "  </tbody>\n",
       "</table>\n",
       "</div>"
      ],
      "text/plain": [
       "            name      pop        lat         lon  \\\n",
       "0      New York   8287238  40.730599  -73.986581   \n",
       "1   Los Angeles   3826423  34.053717 -118.242727   \n",
       "2       Chicago   2705627  41.875555  -87.624421   \n",
       "3       Houston   2129784  29.758938  -95.367697   \n",
       "4  Philadelphia   1539313  39.952335  -75.163789   \n",
       "\n",
       "                                           text  \n",
       "0      New York <br>Population 8.287238 million  \n",
       "1   Los Angeles <br>Population 3.826423 million  \n",
       "2       Chicago <br>Population 2.705627 million  \n",
       "3       Houston <br>Population 2.129784 million  \n",
       "4  Philadelphia <br>Population 1.539313 million  "
      ]
     },
     "execution_count": 10,
     "metadata": {},
     "output_type": "execute_result"
    }
   ],
   "source": [
    "df.head()"
   ]
  },
  {
   "cell_type": "code",
   "execution_count": 13,
   "metadata": {},
   "outputs": [
    {
     "name": "stdout",
     "output_type": "stream",
     "text": [
      "<class 'pandas.core.frame.DataFrame'>\n",
      "RangeIndex: 3228 entries, 0 to 3227\n",
      "Data columns (total 5 columns):\n",
      "name    3228 non-null object\n",
      "pop     3228 non-null int64\n",
      "lat     3228 non-null float64\n",
      "lon     3228 non-null float64\n",
      "text    3228 non-null object\n",
      "dtypes: float64(2), int64(1), object(2)\n",
      "memory usage: 126.2+ KB\n"
     ]
    }
   ],
   "source": [
    "df.info()"
   ]
  },
  {
   "cell_type": "code",
   "execution_count": 18,
   "metadata": {},
   "outputs": [
    {
     "ename": "NameError",
     "evalue": "name 'go' is not defined",
     "output_type": "error",
     "traceback": [
      "\u001b[0;31m---------------------------------------------------------------------------\u001b[0m",
      "\u001b[0;31mNameError\u001b[0m                                 Traceback (most recent call last)",
      "\u001b[0;32m<ipython-input-18-567b8e122ffe>\u001b[0m in \u001b[0;36m<module>\u001b[0;34m()\u001b[0m\n\u001b[0;32m----> 1\u001b[0;31m trace = go.Scatter (\n\u001b[0m\u001b[1;32m      2\u001b[0m     x = [ 1, 2, 3 ] , y = [ 1, 2, 3 ] , marker = dict (color = [ 'red', 'blue' , 'green' ], size = [ 30, 80, 200 ] ) , mode = 'markers' )\n\u001b[1;32m      3\u001b[0m \u001b[0mpy\u001b[0m\u001b[0;34m.\u001b[0m\u001b[0miplot\u001b[0m \u001b[0;34m(\u001b[0m \u001b[0;34m[\u001b[0m \u001b[0mtrace\u001b[0m \u001b[0;34m]\u001b[0m \u001b[0;34m)\u001b[0m\u001b[0;34m\u001b[0m\u001b[0m\n",
      "\u001b[0;31mNameError\u001b[0m: name 'go' is not defined"
     ]
    }
   ],
   "source": [
    "trace = go.Scatter (\n",
    "    x = [ 1, 2, 3 ] , y = [ 1, 2, 3 ] , marker = dict (color = [ 'red', 'blue' , 'green' ], size = [ 30, 80, 200 ] ) , mode = 'markers' )\n",
    "py.iplot ( [ trace ] )"
   ]
  },
  {
   "cell_type": "code",
   "execution_count": 37,
   "metadata": {},
   "outputs": [
    {
     "name": "stdout",
     "output_type": "stream",
     "text": [
      "[42.3646, -71.1028]\n"
     ]
    },
    {
     "data": {
      "text/html": [
       "<iframe id=\"igraph\" scrolling=\"no\" style=\"border:none;\" seamless=\"seamless\" src=\"https://plot.ly/~dev10110/7.embed\" height=\"525px\" width=\"100%\"></iframe>"
      ],
      "text/plain": [
       "<plotly.tools.PlotlyDisplay object>"
      ]
     },
     "execution_count": 37,
     "metadata": {},
     "output_type": "execute_result"
    }
   ],
   "source": [
    "import geocoder\n",
    "g = geocoder.ip('me')\n",
    "print(g.latlng)\n",
    "\n",
    "mylat=g.latlng[0]\n",
    "mylng=g.latlng[1]\n",
    "\n",
    "trace=dict(\n",
    "    type = 'scattergeo',\n",
    "    lon = [mylng,100, 400], lat = [mylat,0,0],\n",
    "    #marker = ['Rome','Greece'],\n",
    "    mode='markers')\n",
    "\n",
    "py.iplot([trace])"
   ]
  },
  {
   "cell_type": "code",
   "execution_count": 32,
   "metadata": {},
   "outputs": [
    {
     "data": {
      "text/plain": [
       "['_KEY',\n",
       " '_KEY_MANDATORY',\n",
       " '_RESULT_CLASS',\n",
       " '_TIMEOUT',\n",
       " '_URL',\n",
       " '__abstractmethods__',\n",
       " '__class__',\n",
       " '__contains__',\n",
       " '__delattr__',\n",
       " '__delitem__',\n",
       " '__dict__',\n",
       " '__dir__',\n",
       " '__doc__',\n",
       " '__eq__',\n",
       " '__format__',\n",
       " '__ge__',\n",
       " '__getattr__',\n",
       " '__getattribute__',\n",
       " '__getitem__',\n",
       " '__gt__',\n",
       " '__hash__',\n",
       " '__iadd__',\n",
       " '__init__',\n",
       " '__init_subclass__',\n",
       " '__iter__',\n",
       " '__le__',\n",
       " '__len__',\n",
       " '__lt__',\n",
       " '__module__',\n",
       " '__ne__',\n",
       " '__new__',\n",
       " '__reduce__',\n",
       " '__reduce_ex__',\n",
       " '__repr__',\n",
       " '__reversed__',\n",
       " '__setattr__',\n",
       " '__setitem__',\n",
       " '__sizeof__',\n",
       " '__slots__',\n",
       " '__str__',\n",
       " '__subclasshook__',\n",
       " '__weakref__',\n",
       " '_abc_cache',\n",
       " '_abc_negative_cache',\n",
       " '_abc_negative_cache_version',\n",
       " '_abc_registry',\n",
       " '_adapt_results',\n",
       " '_before_initialize',\n",
       " '_build_headers',\n",
       " '_build_params',\n",
       " '_catch_errors',\n",
       " '_connect',\n",
       " '_get_api_key',\n",
       " '_initialize',\n",
       " '_is_valid_result_class',\n",
       " '_is_valid_url',\n",
       " '_list',\n",
       " '_parse_results',\n",
       " 'add',\n",
       " 'append',\n",
       " 'clear',\n",
       " 'count',\n",
       " 'current_result',\n",
       " 'debug',\n",
       " 'encoding',\n",
       " 'error',\n",
       " 'extend',\n",
       " 'geojson',\n",
       " 'headers',\n",
       " 'index',\n",
       " 'insert',\n",
       " 'location',\n",
       " 'method',\n",
       " 'ok',\n",
       " 'one_result',\n",
       " 'params',\n",
       " 'pop',\n",
       " 'provider',\n",
       " 'proxies',\n",
       " 'rate_limited_get',\n",
       " 'remove',\n",
       " 'response',\n",
       " 'reverse',\n",
       " 'session',\n",
       " 'set_default_result',\n",
       " 'status',\n",
       " 'status_code',\n",
       " 'timeout',\n",
       " 'url']"
      ]
     },
     "execution_count": 32,
     "metadata": {},
     "output_type": "execute_result"
    }
   ],
   "source": [
    "dir(g)\n"
   ]
  },
  {
   "cell_type": "code",
   "execution_count": 29,
   "metadata": {},
   "outputs": [
    {
     "name": "stdout",
     "output_type": "stream",
     "text": [
      "[42.3646, -71.1028]\n"
     ]
    }
   ],
   "source": [
    "import geocoder\n",
    "g = geocoder.ip('me')\n",
    "print(g.latlng)"
   ]
  },
  {
   "cell_type": "code",
   "execution_count": 36,
   "metadata": {},
   "outputs": [
    {
     "data": {
      "text/plain": [
       "[42.3646, -71.1028]"
      ]
     },
     "execution_count": 36,
     "metadata": {},
     "output_type": "execute_result"
    }
   ],
   "source": [
    "g.latlng"
   ]
  },
  {
   "cell_type": "code",
   "execution_count": null,
   "metadata": {},
   "outputs": [],
   "source": [
    "\n",
    "\n",
    "\n",
    "\n",
    "\n",
    "fig = dict(data=locations)\n",
    "py.iplot( fig, validate=False)"
   ]
  },
  {
   "cell_type": "code",
   "execution_count": null,
   "metadata": {},
   "outputs": [],
   "source": []
  },
  {
   "cell_type": "code",
   "execution_count": null,
   "metadata": {},
   "outputs": [],
   "source": []
  },
  {
   "cell_type": "code",
   "execution_count": null,
   "metadata": {},
   "outputs": [],
   "source": []
  },
  {
   "cell_type": "code",
   "execution_count": 180,
   "metadata": {},
   "outputs": [
    {
     "data": {
      "text/plain": [
       "[1, 2]"
      ]
     },
     "execution_count": 180,
     "metadata": {},
     "output_type": "execute_result"
    }
   ],
   "source": [
    "s"
   ]
  },
  {
   "cell_type": "code",
   "execution_count": 205,
   "metadata": {
    "scrolled": false
   },
   "outputs": [
    {
     "data": {
      "text/html": [
       "<iframe id=\"igraph\" scrolling=\"no\" style=\"border:none;\" seamless=\"seamless\" src=\"https://plot.ly/~dev10110/21.embed\" height=\"525px\" width=\"100%\"></iframe>"
      ],
      "text/plain": [
       "<plotly.tools.PlotlyDisplay object>"
      ]
     },
     "execution_count": 205,
     "metadata": {},
     "output_type": "execute_result"
    }
   ],
   "source": [
    "import csv\n",
    "import geocoder\n",
    "import plotly\n",
    "import plotly.plotly as py\n",
    "import plotly.graph_objs as go\n",
    "import statistics\n",
    "import scipy.optimize as scipyopt\n",
    "import pandas as pd\n",
    "import math\n",
    "\n",
    "\n",
    "## Set up plotly\n",
    "plotly.tools.set_credentials_file(username='dev10110', api_key='0sQ9Wb2f7HVlEVE3eRal')\n",
    "\n",
    "mapbox_access_token = 'pk.eyJ1IjoiZGV2MTAxMTAiLCJhIjoiY2ptNGp0bTYyMHE1azNqb3R3eXU2bG1mdiJ9.XOyqUI4vtvW4ZqQxnbl6Lg'\n",
    "\n",
    "## import data \n",
    "\n",
    "#(survivorlatdata,survivorlondata,survivorpresent,survivorabsent)=tag_photos()\n",
    "\n",
    "\n",
    "## import data \n",
    "#import volunteer data and plot raw scatter\n",
    "vollatdata=[]\n",
    "vollondata=[]\n",
    "with open('volunteerLocData.csv',newline='') as csvfile:\n",
    "    spamreader = csv.reader(csvfile)\n",
    "    for row in spamreader:\n",
    "        vollatdata.append(float(row[0]))\n",
    "        vollondata.append(float(row[1]))\n",
    "    #latlon=[[float(row[0]), float(row[1])] for row in spamreader]\n",
    "\n",
    "    \n",
    "# create the volunteers plot\n",
    "voltrace=dict(\n",
    "    type = 'scattermapbox',\n",
    "    lat = vollatdata, lon = vollondata,\n",
    "    mode='markers',\n",
    "    #marker = dict(),\n",
    "    name = 'Volunteer')\n",
    "\n",
    "\n",
    " #get survivors location\n",
    "if 1:\n",
    "    survivorlatdata=[]\n",
    "    survivorlondata=[]\n",
    "    survivorpresent=[]\n",
    "    survivorabsent =[]\n",
    "    with open('survivorLocData.csv',newline='') as csvfile:\n",
    "        spamreader = csv.reader(csvfile)\n",
    "        for row in spamreader:\n",
    "            survivorlatdata.append(float(row[0]))\n",
    "            survivorlondata.append(float(row[1]))\n",
    "            survivorpresent.append(float(row[2]))\n",
    "            survivorabsent.append(float(row[3]))\n",
    "\n",
    "# mark the survivor locations\n",
    "survivortrace=go.Scattermapbox(\n",
    "    lat = survivorlatdata, \n",
    "    lon = survivorlondata,\n",
    "    #size = [10*surv for surv in survivorpresent],\n",
    "    mode='markers',\n",
    "    name='Survivor!',\n",
    "    marker = dict(\n",
    "        size=10,\n",
    "        color='#ff0000')\n",
    ")\n",
    "\n",
    "\n",
    "#get users location\n",
    "g = geocoder.ip('me')\n",
    "mylat=g.latlng[0]\n",
    "mylon=g.latlng[1]\n",
    "\n",
    "# mark the user location\n",
    "mytrace=dict(\n",
    "    type = 'scattermapbox',\n",
    "    lat = [mylat], lon = [mylon],\n",
    "    mode='markers',\n",
    "    marker = dict(\n",
    "    symbol='star',\n",
    "    color='#003bff'),\n",
    "    name='Map generated here'\n",
    "    )\n",
    "\n",
    "\n",
    "\n",
    "\n",
    "\n",
    "## create the mapping\n",
    "\n",
    "#create a cost matrix\n",
    "\n",
    "\n",
    "#heuristic1: distance between nodes squared\n",
    "costmatrix=np.zeros((len(vollatdata), len(survivorlatdata)))\n",
    "\n",
    "for i in range(0,len(vollatdata)):\n",
    "    for j in range(0,len(survivorlatdata)):\n",
    "        costmatrix[i,j]=distance(vollatdata[i],vollondata[i],survivorlatdata[j],survivorlondata[j]) #compute the dist between volunteer and survivor\n",
    "        #ideally should include some confidence info/weather info\n",
    "\n",
    "bestassignmentrow, bestassignmentcol=scipyopt.linear_sum_assignment(costmatrix)\n",
    "\n",
    "#create the first assignment\n",
    "#assignments = go.scattergeo(\n",
    " #   lat = [vollatdata[bestassignmentrow[0]],survivorlatdata[bestassignmentcol[0]]], \n",
    "  #  lon = [vollondata[bestassignmentrow[0]],survivorlondata[bestassignmentcol[0]]], \n",
    "    #size = [10*surv for surv in survivorpresent],\n",
    "   # )\n",
    "\n",
    "assignments = []\n",
    "for i in range(0, len( vollatdata ) ):\n",
    "    assignments.append(\n",
    "        dict(\n",
    "            type = 'scattergeo',\n",
    "            lat = [vollatdata[bestassignmentrow[i]], survivorlatdata[bestassignmentcol[i]]],\n",
    "            lon = [vollondata[bestassignmentrow[i]], survivorlondata[bestassignmentcol[i]]],\n",
    "            mode = 'lines',\n",
    "            line = dict(\n",
    "                width = 10,\n",
    "                color = 'red',\n",
    "            )\n",
    "        )\n",
    "    )\n",
    "\n",
    "\n",
    "\n",
    "\n",
    "\n",
    "##make the plot look nice\n",
    "\n",
    "medianlat=statistics.median(survivorlatdata)\n",
    "medianlon=statistics.median(survivorlondata)\n",
    "\n",
    "layout = go.Layout(\n",
    "    autosize=True,\n",
    "    hovermode='closest',\n",
    "    mapbox=dict(\n",
    "        accesstoken=mapbox_access_token,\n",
    "        bearing=0,\n",
    "        center=dict(\n",
    "            lat=medianlat,\n",
    "            lon=medianlon\n",
    "        ),\n",
    "        pitch=0,\n",
    "        zoom=6,\n",
    "        style='light'\n",
    "    ),\n",
    ")\n",
    "data=[voltrace, mytrace,survivortrace]+assignments\n",
    "## finally implement the plot\n",
    "fig=dict(data=[voltrace, mytrace,survivortrace]+assignments,layout=layout)\n",
    "\n",
    "py.iplot(fig,filename='Where help is needed')\n",
    "\n",
    "\n",
    "\n",
    "\n",
    "\n",
    "\n",
    "\n",
    "\n"
   ]
  },
  {
   "cell_type": "code",
   "execution_count": 164,
   "metadata": {},
   "outputs": [],
   "source": [
    "import scipy.optimize as scipyopt\n",
    "import scipy.optimize as scipyopt\n",
    "\n",
    "#create a cost matrix\n",
    "#heuristic1: distance between nodes squared\n",
    "\n",
    "costmatrix=np.zeros((len(vollatdata), len(survivorlatdata)))\n",
    "\n",
    "for i in range(0,len(vollatdata)):\n",
    "    for j in range(0,len(survivorlatdata)):\n",
    "        costmatrix[i,j]=distance(vollatdata[i],vollondata[i],survivorlatdata[j],survivorlondata[j])\n",
    "\n",
    "\n",
    "bestassignmentrow, bestassignmentcol=scipyopt.linear_sum_assignment(costmatrix)"
   ]
  },
  {
   "cell_type": "code",
   "execution_count": 165,
   "metadata": {},
   "outputs": [
    {
     "data": {
      "text/plain": [
       "array([ 0,  1,  2,  3,  4,  5,  6,  7,  8,  9, 10, 11, 12, 13, 14])"
      ]
     },
     "execution_count": 165,
     "metadata": {},
     "output_type": "execute_result"
    }
   ],
   "source": [
    "bestassignmentrow"
   ]
  },
  {
   "cell_type": "code",
   "execution_count": 133,
   "metadata": {},
   "outputs": [],
   "source": [
    "import math\n",
    "def distance(lat, lng, lat0, lng0):\n",
    "    deglen = 110.25\n",
    "    x = lat - lat0\n",
    "    y = (lng - lng0)*math.cos(lat0)\n",
    "    return deglen*math.sqrt(x*x + y*y)"
   ]
  },
  {
   "cell_type": "code",
   "execution_count": 170,
   "metadata": {},
   "outputs": [
    {
     "data": {
      "text/plain": [
       "15"
      ]
     },
     "execution_count": 170,
     "metadata": {},
     "output_type": "execute_result"
    }
   ],
   "source": [
    "bestassignmentcol[0]"
   ]
  },
  {
   "cell_type": "code",
   "execution_count": 173,
   "metadata": {},
   "outputs": [
    {
     "data": {
      "text/plain": [
       "[1, 2, 3, 4]"
      ]
     },
     "execution_count": 173,
     "metadata": {},
     "output_type": "execute_result"
    }
   ],
   "source": [
    "s=[1,2]\n",
    "b=[3,4]\n",
    "s+b"
   ]
  },
  {
   "cell_type": "code",
   "execution_count": 172,
   "metadata": {},
   "outputs": [
    {
     "data": {
      "text/plain": [
       "[1, 2, [3, 4]]"
      ]
     },
     "execution_count": 172,
     "metadata": {},
     "output_type": "execute_result"
    }
   ],
   "source": [
    "s"
   ]
  },
  {
   "cell_type": "code",
   "execution_count": 186,
   "metadata": {},
   "outputs": [
    {
     "name": "stdout",
     "output_type": "stream",
     "text": [
      "([-24.500008746954016, 0.2323], [33.35785150844174, 0.2323], [0.035, 0.044], [0.853, 0.135])\n"
     ]
    }
   ],
   "source": [
    "from watson_developer_cloud import VisualRecognitionV3\n",
    "import json\n",
    "import os\n",
    "import getLatLong as geotag\n",
    "\n",
    "#all photos must be stored in 'Photos' directory (same dir as code)\n",
    "\n",
    "#tagged_images = [] #[(lat,long),roof_true probability, roof_false probability]\n",
    "lats = []\n",
    "longs = []\n",
    "rt = []\n",
    "rf = []\n",
    "\n",
    "visual_recognition = VisualRecognitionV3(\n",
    "    '2018-03-19',\n",
    "    iam_apikey='vFTSKJUVMqQs9h4mHY0wwqI9yPjYS6z1tbv_ZkCfV3SX')\n",
    "\n",
    "def tag_photos():\n",
    "    \n",
    "    for file in os.listdir('Photos'):\n",
    "\n",
    "        direc = 'Photos/' + file\n",
    "\n",
    "        with open(direc, 'rb') as images_file:\n",
    "            classes = visual_recognition.classify(\n",
    "                images_file,\n",
    "                threshold='0.0',\n",
    "                owners=[\"me\"]).get_result()\n",
    "                #classifier_ids=['default']).get_result()\n",
    "\n",
    "            roof_false = classes['images'][0]['classifiers'][0]['classes'][0]['score']\n",
    "            roof_true = classes['images'][0]['classifiers'][0]['classes'][1]['score']\n",
    "\n",
    "\n",
    "        (lat,long) = geotag.getLatLong(direc)\n",
    "\n",
    "        lats.append(lat)\n",
    "        longs.append(long)\n",
    "        rt.append(roof_true)\n",
    "        rf.append(roof_false)\n",
    "        #tagged_images.append([(lat,long),roof_true,roof_false])\n",
    "        \n",
    "    return(lats,longs,rt,rf)\n",
    "\n",
    "print(tag_photos())\n",
    "\n"
   ]
  },
  {
   "cell_type": "code",
   "execution_count": 188,
   "metadata": {},
   "outputs": [],
   "source": [
    "\n",
    "\n",
    "#### extra functions\n",
    "def distance(lat, lng, lat0, lng0):\n",
    "    deglen = 110.25\n",
    "    x = lat - lat0\n",
    "    y = (lng - lng0)*math.cos(lat0)\n",
    "    return deglen*math.sqrt(x*x + y*y)\n",
    "    "
   ]
  },
  {
   "cell_type": "code",
   "execution_count": 191,
   "metadata": {},
   "outputs": [
    {
     "data": {
      "text/plain": [
       "[43.53761829, -24.500008746954016]"
      ]
     },
     "execution_count": 191,
     "metadata": {},
     "output_type": "execute_result"
    }
   ],
   "source": [
    "[vollatdata[bestassignmentrow[0]],survivorlatdata[bestassignmentcol[0]]]"
   ]
  },
  {
   "cell_type": "code",
   "execution_count": 197,
   "metadata": {},
   "outputs": [
    {
     "data": {
      "text/plain": [
       "[43.24938912, -24.500008746954016]"
      ]
     },
     "execution_count": 197,
     "metadata": {},
     "output_type": "execute_result"
    }
   ],
   "source": [
    "i=1\n",
    "[vollatdata[bestassignmentrow[i]], survivorlatdata[bestassignmentcol[i]]]"
   ]
  },
  {
   "cell_type": "code",
   "execution_count": 203,
   "metadata": {},
   "outputs": [
    {
     "data": {
      "text/plain": [
       "[{'type': 'scattermapbox',\n",
       "  'lat': [43.53761829,\n",
       "   43.24938912,\n",
       "   43.5909836,\n",
       "   43.93571255,\n",
       "   43.68341471,\n",
       "   43.98766855,\n",
       "   43.65638631,\n",
       "   43.36782512,\n",
       "   43.33337972,\n",
       "   43.3005574,\n",
       "   43.29989354,\n",
       "   43.98079066,\n",
       "   43.93793936,\n",
       "   43.98924527,\n",
       "   43.91646716],\n",
       "  'lon': [-72.27733466,\n",
       "   -72.81933067,\n",
       "   -72.20935957,\n",
       "   -72.74645273,\n",
       "   -72.52164719,\n",
       "   -72.56784585,\n",
       "   -72.08093735,\n",
       "   -72.92360347,\n",
       "   -72.22616272,\n",
       "   -72.44851428,\n",
       "   -72.42631115,\n",
       "   -72.78298457,\n",
       "   -72.01686595,\n",
       "   -72.98209167,\n",
       "   -72.123395],\n",
       "  'mode': 'markers',\n",
       "  'name': 'Volunteer'},\n",
       " {'type': 'scattermapbox',\n",
       "  'lat': [42.3646],\n",
       "  'lon': [-71.1028],\n",
       "  'mode': 'markers',\n",
       "  'marker': {'symbol': 'star', 'color': '#003bff'},\n",
       "  'name': 'Map generated here'},\n",
       " Scattermapbox({\n",
       "     'lat': [-24.500008746954016, 0.2323, -24.500008746954016, 0.2323,\n",
       "             -24.500008746954016, 0.2323, -24.500008746954016, 0.2323,\n",
       "             -24.500008746954016, 0.2323, -24.500008746954016, 0.2323,\n",
       "             -24.500008746954016, 0.2323, -24.500008746954016, 0.2323,\n",
       "             -24.500008746954016, 0.2323, -24.500008746954016, 0.2323],\n",
       "     'lon': [33.35785150844174, 0.2323, 33.35785150844174, 0.2323,\n",
       "             33.35785150844174, 0.2323, 33.35785150844174, 0.2323,\n",
       "             33.35785150844174, 0.2323, 33.35785150844174, 0.2323,\n",
       "             33.35785150844174, 0.2323, 33.35785150844174, 0.2323,\n",
       "             33.35785150844174, 0.2323, 33.35785150844174, 0.2323],\n",
       "     'marker': {'color': '#ff0000', 'size': 10},\n",
       "     'mode': 'markers',\n",
       "     'name': 'Survivor!'\n",
       " }),\n",
       " {'type': 'scattergeo',\n",
       "  'lat': [43.53761829, 0.2323],\n",
       "  'lon': [-72.27733466, 0.2323],\n",
       "  'mode': 'lines',\n",
       "  'line': {'width': 1, 'color': 'red'}},\n",
       " {'type': 'scattergeo',\n",
       "  'lat': [43.24938912, -24.500008746954016],\n",
       "  'lon': [-72.81933067, 33.35785150844174],\n",
       "  'mode': 'lines',\n",
       "  'line': {'width': 1, 'color': 'red'}},\n",
       " {'type': 'scattergeo',\n",
       "  'lat': [43.5909836, 0.2323],\n",
       "  'lon': [-72.20935957, 0.2323],\n",
       "  'mode': 'lines',\n",
       "  'line': {'width': 1, 'color': 'red'}},\n",
       " {'type': 'scattergeo',\n",
       "  'lat': [43.93571255, 0.2323],\n",
       "  'lon': [-72.74645273, 0.2323],\n",
       "  'mode': 'lines',\n",
       "  'line': {'width': 1, 'color': 'red'}},\n",
       " {'type': 'scattergeo',\n",
       "  'lat': [43.68341471, 0.2323],\n",
       "  'lon': [-72.52164719, 0.2323],\n",
       "  'mode': 'lines',\n",
       "  'line': {'width': 1, 'color': 'red'}},\n",
       " {'type': 'scattergeo',\n",
       "  'lat': [43.98766855, 0.2323],\n",
       "  'lon': [-72.56784585, 0.2323],\n",
       "  'mode': 'lines',\n",
       "  'line': {'width': 1, 'color': 'red'}},\n",
       " {'type': 'scattergeo',\n",
       "  'lat': [43.65638631, 0.2323],\n",
       "  'lon': [-72.08093735, 0.2323],\n",
       "  'mode': 'lines',\n",
       "  'line': {'width': 1, 'color': 'red'}},\n",
       " {'type': 'scattergeo',\n",
       "  'lat': [43.36782512, -24.500008746954016],\n",
       "  'lon': [-72.92360347, 33.35785150844174],\n",
       "  'mode': 'lines',\n",
       "  'line': {'width': 1, 'color': 'red'}},\n",
       " {'type': 'scattergeo',\n",
       "  'lat': [43.33337972, 0.2323],\n",
       "  'lon': [-72.22616272, 0.2323],\n",
       "  'mode': 'lines',\n",
       "  'line': {'width': 1, 'color': 'red'}},\n",
       " {'type': 'scattergeo',\n",
       "  'lat': [43.3005574, -24.500008746954016],\n",
       "  'lon': [-72.44851428, 33.35785150844174],\n",
       "  'mode': 'lines',\n",
       "  'line': {'width': 1, 'color': 'red'}},\n",
       " {'type': 'scattergeo',\n",
       "  'lat': [43.29989354, 0.2323],\n",
       "  'lon': [-72.42631115, 0.2323],\n",
       "  'mode': 'lines',\n",
       "  'line': {'width': 1, 'color': 'red'}},\n",
       " {'type': 'scattergeo',\n",
       "  'lat': [43.98079066, -24.500008746954016],\n",
       "  'lon': [-72.78298457, 33.35785150844174],\n",
       "  'mode': 'lines',\n",
       "  'line': {'width': 1, 'color': 'red'}},\n",
       " {'type': 'scattergeo',\n",
       "  'lat': [43.93793936, 0.2323],\n",
       "  'lon': [-72.01686595, 0.2323],\n",
       "  'mode': 'lines',\n",
       "  'line': {'width': 1, 'color': 'red'}},\n",
       " {'type': 'scattergeo',\n",
       "  'lat': [43.98924527, -24.500008746954016],\n",
       "  'lon': [-72.98209167, 33.35785150844174],\n",
       "  'mode': 'lines',\n",
       "  'line': {'width': 1, 'color': 'red'}},\n",
       " {'type': 'scattergeo',\n",
       "  'lat': [43.91646716, 0.2323],\n",
       "  'lon': [-72.123395, 0.2323],\n",
       "  'mode': 'lines',\n",
       "  'line': {'width': 1, 'color': 'red'}}]"
      ]
     },
     "execution_count": 203,
     "metadata": {},
     "output_type": "execute_result"
    }
   ],
   "source": [
    "[voltrace, mytrace,survivortrace]+assignments"
   ]
  },
  {
   "cell_type": "code",
   "execution_count": null,
   "metadata": {},
   "outputs": [],
   "source": []
  }
 ],
 "metadata": {
  "kernelspec": {
   "display_name": "Python 3",
   "language": "python",
   "name": "python3"
  },
  "language_info": {
   "codemirror_mode": {
    "name": "ipython",
    "version": 3
   },
   "file_extension": ".py",
   "mimetype": "text/x-python",
   "name": "python",
   "nbconvert_exporter": "python",
   "pygments_lexer": "ipython3",
   "version": "3.6.5"
  }
 },
 "nbformat": 4,
 "nbformat_minor": 2
}
